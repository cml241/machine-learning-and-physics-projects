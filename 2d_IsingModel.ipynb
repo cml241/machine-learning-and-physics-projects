{
  "nbformat": 4,
  "nbformat_minor": 0,
  "metadata": {
    "colab": {
      "provenance": [],
      "authorship_tag": "ABX9TyOde+Nfv9JTN+aFXLldFPgT",
      "include_colab_link": true
    },
    "kernelspec": {
      "name": "python3",
      "display_name": "Python 3"
    },
    "language_info": {
      "name": "python"
    }
  },
  "cells": [
    {
      "cell_type": "markdown",
      "metadata": {
        "id": "view-in-github",
        "colab_type": "text"
      },
      "source": [
        "<a href=\"https://colab.research.google.com/github/cml241/machine-learning-and-physics-projects/blob/main/2d_IsingModel.ipynb\" target=\"_parent\"><img src=\"https://colab.research.google.com/assets/colab-badge.svg\" alt=\"Open In Colab\"/></a>"
      ]
    },
    {
      "cell_type": "code",
      "source": [
        "import numpy as np\n",
        "import matplotlib.pyplot as plt\n",
        "import random\n",
        "import math"
      ],
      "metadata": {
        "id": "E21MBdcVrmwr"
      },
      "execution_count": null,
      "outputs": []
    },
    {
      "cell_type": "code",
      "execution_count": null,
      "metadata": {
        "collapsed": true,
        "id": "7CphuseEPP2i"
      },
      "outputs": [],
      "source": [
        "N = 60\n",
        "\n",
        "rand = np.random.random((N,N))\n",
        "spinLattice = np.zeros((N,N))\n",
        "spinLattice[rand>=0.30] = 1\n",
        "spinLattice[rand<0.30] = -1"
      ]
    },
    {
      "cell_type": "code",
      "source": [
        "plt.imshow(spinLattice)"
      ],
      "metadata": {
        "colab": {
          "base_uri": "https://localhost:8080/",
          "height": 450
        },
        "id": "OeRo7IDsrxyl",
        "outputId": "f9f2c0e8-515c-41c9-ea7d-cf53908a476c"
      },
      "execution_count": null,
      "outputs": [
        {
          "output_type": "execute_result",
          "data": {
            "text/plain": [
              "<matplotlib.image.AxesImage at 0x7d479c4846d0>"
            ]
          },
          "metadata": {},
          "execution_count": 35
        },
        {
          "output_type": "display_data",
          "data": {
            "text/plain": [
              "<Figure size 640x480 with 1 Axes>"
            ],
            "image/png": "[encoded data removed]"
          },
          "metadata": {}
        }
      ]
    },
    {
      "cell_type": "code",
      "source": [
        "n = 5000\n",
        "for n in range(n):\n",
        "  nrandx = np.random.randint(0,N-1)\n",
        "  nrandy = np.random.randint(0,N-1)\n",
        "\n",
        "  spinLattice_initial_i = spinLattice[nrandx,nrandy]\n",
        "  spinLattice_final_i = -spinLattice_initial_i\n",
        "\n",
        "  E_i = 0\n",
        "  E_f = 0\n",
        "\n",
        "  if nrandx > 0:\n",
        "    E_i += -spinLattice_initial_i*spinLattice[nrandx-1,nrandy]\n",
        "    E_f += -spinLattice_final_i*spinLattice[nrandx-1,nrandy]\n",
        "  if nrandx< N-1:\n",
        "    E_i += -spinLattice_initial_i*spinLattice[nrandx+1,nrandy]\n",
        "    E_f += -spinLattice_final_i*spinLattice[nrandx+1,nrandy]\n",
        "  if nrandx > 0:\n",
        "    E_i += -spinLattice_initial_i*spinLattice[nrandx,nrandy-1]\n",
        "    E_f += -spinLattice_final_i*spinLattice[nrandx,nrandy-1]\n",
        "  if nrandx< N-1:\n",
        "    E_i += -spinLattice_initial_i*spinLattice[nrandx+1,nrandy+1]\n",
        "    E_f += -spinLattice_final_i*spinLattice[nrandx+1,nrandy+1]\n",
        "\n",
        "  delta_E = E_f - E_i\n",
        "  T = 1\n",
        "  Kb = 1.380649*10**-23\n",
        "\n",
        "  if delta_E < 0 :\n",
        "    spinLattice[nrandx,nrandy] = spinLattice_final_i\n",
        "  elif delta_E > 0 :\n",
        "    P = np.exp(-delta_E/(Kb*T))\n",
        "    r = random.uniform(0, 1)\n",
        "    if r <= P :\n",
        "      spinLattice[nrandx,nrandy] = spinLattice_final_i\n",
        "    elif r > P :\n",
        "      spinLattice[nrandx,nrandy] = spinLattice_initial_i\n",
        "plt.imshow(spinLattice)"
      ],
      "metadata": {
        "colab": {
          "base_uri": "https://localhost:8080/",
          "height": 450
        },
        "id": "9titfGs-tgBo",
        "outputId": "00764f4c-a4e1-4c53-a5e6-08c788890e5a"
      },
      "execution_count": null,
      "outputs": [
        {
          "output_type": "execute_result",
          "data": {
            "text/plain": [
              "<matplotlib.image.AxesImage at 0x7d479c559510>"
            ]
          },
          "metadata": {},
          "execution_count": 36
        },
        {
          "output_type": "display_data",
          "data": {
            "text/plain": [
              "<Figure size 640x480 with 1 Axes>"
            ],
            "image/png": "[encoded data removed]"
          },
          "metadata": {}
        }
      ]
    },
    {
      "cell_type": "code",
      "source": [
        "n = 15000\n",
        "for n in range(n):\n",
        "  nrandx = np.random.randint(0,N-1)\n",
        "  nrandy = np.random.randint(0,N-1)\n",
        "\n",
        "  spinLattice_initial_i = spinLattice[nrandx,nrandy]\n",
        "  spinLattice_final_i = -spinLattice_initial_i\n",
        "\n",
        "  E_i = 0\n",
        "  E_f = 0\n",
        "\n",
        "  if nrandx > 0:\n",
        "    E_i += -spinLattice_initial_i*spinLattice[nrandx-1,nrandy]\n",
        "    E_f += -spinLattice_final_i*spinLattice[nrandx-1,nrandy]\n",
        "  if nrandx< N-1:\n",
        "    E_i += -spinLattice_initial_i*spinLattice[nrandx+1,nrandy]\n",
        "    E_f += -spinLattice_final_i*spinLattice[nrandx+1,nrandy]\n",
        "  if nrandx > 0:\n",
        "    E_i += -spinLattice_initial_i*spinLattice[nrandx,nrandy-1]\n",
        "    E_f += -spinLattice_final_i*spinLattice[nrandx,nrandy-1]\n",
        "  if nrandx< N-1:\n",
        "    E_i += -spinLattice_initial_i*spinLattice[nrandx+1,nrandy+1]\n",
        "    E_f += -spinLattice_final_i*spinLattice[nrandx+1,nrandy+1]\n",
        "\n",
        "  delta_E = E_f - E_i\n",
        "  T = 1\n",
        "  Kb = 1.380649*10**-23\n",
        "\n",
        "  if delta_E < 0 :\n",
        "    spinLattice[nrandx,nrandy] = spinLattice_final_i\n",
        "  elif delta_E > 0 :\n",
        "    P = np.exp(-delta_E/(Kb*T))\n",
        "    r = random.uniform(0, 1)\n",
        "    if r <= P :\n",
        "      spinLattice[nrandx,nrandy] = spinLattice_final_i\n",
        "    elif r > P :\n",
        "      spinLattice[nrandx,nrandy] = spinLattice_initial_i\n",
        "plt.imshow(spinLattice)"
      ],
      "metadata": {
        "colab": {
          "base_uri": "https://localhost:8080/",
          "height": 450
        },
        "id": "xJ__lY58TCc0",
        "outputId": "88a5f1a6-129f-407f-f562-14b3776215f4"
      },
      "execution_count": null,
      "outputs": [
        {
          "output_type": "execute_result",
          "data": {
            "text/plain": [
              "<matplotlib.image.AxesImage at 0x7d479c3984c0>"
            ]
          },
          "metadata": {},
          "execution_count": 37
        },
        {
          "output_type": "display_data",
          "data": {
            "text/plain": [
              "<Figure size 640x480 with 1 Axes>"
            ],
            "image/png": "[encoded data removed]"
          },
          "metadata": {}
        }
      ]
    },
    {
      "cell_type": "code",
      "source": [
        "n = 60000\n",
        "for n in range(n):\n",
        "  nrandx = np.random.randint(0,N-1)\n",
        "  nrandy = np.random.randint(0,N-1)\n",
        "\n",
        "  spinLattice_initial_i = spinLattice[nrandx,nrandy]\n",
        "  spinLattice_final_i = -spinLattice_initial_i\n",
        "\n",
        "  E_i = 0\n",
        "  E_f = 0\n",
        "\n",
        "  if nrandx > 0:\n",
        "    E_i += -spinLattice_initial_i*spinLattice[nrandx-1,nrandy]\n",
        "    E_f += -spinLattice_final_i*spinLattice[nrandx-1,nrandy]\n",
        "  if nrandx< N-1:\n",
        "    E_i += -spinLattice_initial_i*spinLattice[nrandx+1,nrandy]\n",
        "    E_f += -spinLattice_final_i*spinLattice[nrandx+1,nrandy]\n",
        "  if nrandx > 0:\n",
        "    E_i += -spinLattice_initial_i*spinLattice[nrandx,nrandy-1]\n",
        "    E_f += -spinLattice_final_i*spinLattice[nrandx,nrandy-1]\n",
        "  if nrandx< N-1:\n",
        "    E_i += -spinLattice_initial_i*spinLattice[nrandx+1,nrandy+1]\n",
        "    E_f += -spinLattice_final_i*spinLattice[nrandx+1,nrandy+1]\n",
        "\n",
        "  delta_E = E_f - E_i\n",
        "  T = 1\n",
        "  Kb = 1.380649*10**-23\n",
        "\n",
        "  if delta_E < 0 :\n",
        "    spinLattice[nrandx,nrandy] = spinLattice_final_i\n",
        "  elif delta_E > 0 :\n",
        "    P = np.exp(-delta_E/(Kb*T))\n",
        "    r = random.uniform(0, 1)\n",
        "    if r <= P :\n",
        "      spinLattice[nrandx,nrandy] = spinLattice_final_i\n",
        "    elif r > P :\n",
        "      spinLattice[nrandx,nrandy] = spinLattice_initial_i\n",
        "plt.imshow(spinLattice)"
      ],
      "metadata": {
        "colab": {
          "base_uri": "https://localhost:8080/",
          "height": 450
        },
        "id": "W0fAZ3LST8w8",
        "outputId": "edc9f512-eef7-4e24-ad2e-6456d51a638a"
      },
      "execution_count": null,
      "outputs": [
        {
          "output_type": "execute_result",
          "data": {
            "text/plain": [
              "<matplotlib.image.AxesImage at 0x7d479c219900>"
            ]
          },
          "metadata": {},
          "execution_count": 38
        },
        {
          "output_type": "display_data",
          "data": {
            "text/plain": [
              "<Figure size 640x480 with 1 Axes>"
            ],
            "image/png": "[encoded data removed]"
          },
          "metadata": {}
        }
      ]
    },
    {
      "cell_type": "code",
      "source": [
        "magnetization =  np.sum(spinLattice) / (N * N)\n",
        "magnetization"
      ],
      "metadata": {
        "colab": {
          "base_uri": "https://localhost:8080/"
        },
        "id": "shNhaWHkUDHr",
        "outputId": "ca5ac9bf-4e32-4d6b-fb72-9fcb2ea0325a"
      },
      "execution_count": null,
      "outputs": [
        {
          "output_type": "execute_result",
          "data": {
            "text/plain": [
              "0.9716666666666667"
            ]
          },
          "metadata": {},
          "execution_count": 39
        }
      ]
    },
    {
      "cell_type": "code",
      "source": [
        "N = 60\n",
        "\n",
        "rand = np.random.random((N,N))\n",
        "spinLattice = np.zeros((N,N))\n",
        "spinLattice[rand>=0.30] = 1\n",
        "spinLattice[rand<0.30] = -1"
      ],
      "metadata": {
        "id": "UXwzCW25YyPF"
      },
      "execution_count": null,
      "outputs": []
    },
    {
      "cell_type": "code",
      "source": [
        "n = 60000\n",
        "for n in range(n):\n",
        "  nrandx = np.random.randint(0,N-1)\n",
        "  nrandy = np.random.randint(0,N-1)\n",
        "\n",
        "  spinLattice_initial_i = spinLattice[nrandx,nrandy]\n",
        "  spinLattice_final_i = -spinLattice_initial_i\n",
        "\n",
        "  E_i = 0\n",
        "  E_f = 0\n",
        "\n",
        "  if nrandx > 0:\n",
        "    E_i += -spinLattice_initial_i*spinLattice[nrandx-1,nrandy]\n",
        "    E_f += -spinLattice_final_i*spinLattice[nrandx-1,nrandy]\n",
        "  if nrandx< N-1:\n",
        "    E_i += -spinLattice_initial_i*spinLattice[nrandx+1,nrandy]\n",
        "    E_f += -spinLattice_final_i*spinLattice[nrandx+1,nrandy]\n",
        "  if nrandx > 0:\n",
        "    E_i += -spinLattice_initial_i*spinLattice[nrandx,nrandy-1]\n",
        "    E_f += -spinLattice_final_i*spinLattice[nrandx,nrandy-1]\n",
        "  if nrandx< N-1:\n",
        "    E_i += -spinLattice_initial_i*spinLattice[nrandx+1,nrandy+1]\n",
        "    E_f += -spinLattice_final_i*spinLattice[nrandx+1,nrandy+1]\n",
        "\n",
        "  delta_E = E_f - E_i\n",
        "  T = 100\n",
        "  Kb = 1.380649*10**-23\n",
        "\n",
        "  if delta_E < 0 :\n",
        "    spinLattice[nrandx,nrandy] = spinLattice_final_i\n",
        "  elif delta_E > 0 :\n",
        "    P = np.exp(-delta_E/(Kb*T))\n",
        "    r = random.uniform(0, 1)\n",
        "    if r <= P :\n",
        "      spinLattice[nrandx,nrandy] = spinLattice_final_i\n",
        "    elif r > P :\n",
        "      spinLattice[nrandx,nrandy] = spinLattice_initial_i\n",
        "plt.imshow(spinLattice)"
      ],
      "metadata": {
        "colab": {
          "base_uri": "https://localhost:8080/",
          "height": 450
        },
        "id": "BVNQScFDZBHE",
        "outputId": "993303c3-790e-491e-d1f7-b863b08337aa"
      },
      "execution_count": null,
      "outputs": [
        {
          "output_type": "execute_result",
          "data": {
            "text/plain": [
              "<matplotlib.image.AxesImage at 0x7d479c285780>"
            ]
          },
          "metadata": {},
          "execution_count": 41
        },
        {
          "output_type": "display_data",
          "data": {
            "text/plain": [
              "<Figure size 640x480 with 1 Axes>"
            ],
            "image/png": "[encoded data removed]"
          },
          "metadata": {}
        }
      ]
    },
    {
      "cell_type": "code",
      "source": [
        "magnetization =  np.sum(spinLattice) / (N * N)\n",
        "magnetization"
      ],
      "metadata": {
        "colab": {
          "base_uri": "https://localhost:8080/"
        },
        "id": "QhleMYW1ZMM2",
        "outputId": "b8ed24fb-3f52-449b-a4b0-d0a9e6f8e473"
      },
      "execution_count": null,
      "outputs": [
        {
          "output_type": "execute_result",
          "data": {
            "text/plain": [
              "0.9688888888888889"
            ]
          },
          "metadata": {},
          "execution_count": 42
        }
      ]
    }
  ]
}